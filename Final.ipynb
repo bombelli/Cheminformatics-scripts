{
 "cells": [
  {
   "cell_type": "code",
   "execution_count": 2,
   "id": "fd8dc233",
   "metadata": {},
   "outputs": [],
   "source": [
    "from chembl_webresource_client.new_client import new_client\n",
    "import pandas as pd"
   ]
  },
  {
   "cell_type": "code",
   "execution_count": 3,
   "id": "60741ce8",
   "metadata": {},
   "outputs": [],
   "source": [
    "import os\n",
    "\n",
    "target_list = []\n",
    "\n",
    "\n",
    "target = new_client.target\n",
    "target_query = target.search('MARK2')\n",
    "targets = pd.DataFrame.from_dict(target_query)\n",
    "ts_df = targets[['organism','target_chembl_id']]\n",
    "\n",
    "ttt = ts_df.loc[ts_df['organism'] =='Homo sapiens']\n",
    "\n",
    "ttt_ta = ttt[['target_chembl_id']]\n",
    "\n",
    "try:\n",
    "    os.remove('target_chembl_ids.txt')\n",
    "except OSError:\n",
    "    pass\n",
    "\n",
    "ttt_ta.to_csv(r'target_chembl_ids.txt', header=None, index=None, sep=' ',mode='a')\n",
    "\n",
    "target_list.extend(ttt_ta['target_chembl_id'].tolist())"
   ]
  },
  {
   "cell_type": "code",
   "execution_count": 4,
   "id": "e4b77f2d",
   "metadata": {},
   "outputs": [],
   "source": [
    "molecules={}\n",
    "\n",
    "for tag in target_list:\n",
    "    activity = new_client.activity\n",
    "    res = activity.filter(target_chembl_id= tag).filter(type=\"IC50\")\n",
    "    df = pd.DataFrame.from_dict(res)\n",
    "    if df.empty:\n",
    "        molecules[tag]= 'Empty'\n",
    "    else:\n",
    "        mol_df = df[['molecule_chembl_id']]\n",
    "        molecules[tag] = mol_df.to_dict() \n",
    "try:\n",
    "    os.remove('molecules.txt')\n",
    "except OSError:\n",
    "    pass\n",
    "\n",
    "with open('molecules.txt','w') as f:\n",
    "    for key, value in molecules.items():\n",
    "        f.write('{0}, {1}\\n\\n\\n'.format(key, value))\n",
    "        #f.write((blue, key, value))\n",
    "#f.write(str(molecules))\n",
    "#f.close()"
   ]
  },
  {
   "cell_type": "code",
   "execution_count": null,
   "id": "090dbaa4",
   "metadata": {},
   "outputs": [],
   "source": []
  }
 ],
 "metadata": {
  "kernelspec": {
   "display_name": "Python 3 (ipykernel)",
   "language": "python",
   "name": "python3"
  },
  "language_info": {
   "codemirror_mode": {
    "name": "ipython",
    "version": 3
   },
   "file_extension": ".py",
   "mimetype": "text/x-python",
   "name": "python",
   "nbconvert_exporter": "python",
   "pygments_lexer": "ipython3",
   "version": "3.10.0"
  }
 },
 "nbformat": 4,
 "nbformat_minor": 5
}
